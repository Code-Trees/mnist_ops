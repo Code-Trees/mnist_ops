{
 "cells": [
  {
   "cell_type": "code",
   "execution_count": 1,
   "id": "d3c453b6-e44f-4c5f-bf21-a9fe25544c75",
   "metadata": {},
   "outputs": [
    {
     "data": {
      "application/javascript": [
       "IPython.notebook.set_autosave_interval(20000)"
      ]
     },
     "metadata": {},
     "output_type": "display_data"
    },
    {
     "name": "stdout",
     "output_type": "stream",
     "text": [
      "Autosaving every 20 seconds\n"
     ]
    }
   ],
   "source": [
    "from IPython.core.interactiveshell import InteractiveShell\n",
    "InteractiveShell.ast_node_interactivity = \"all\"\n",
    "%autosave 20"
   ]
  },
  {
   "cell_type": "code",
   "execution_count": 2,
   "id": "e6587582-4314-4f97-8efd-81b06eacdee1",
   "metadata": {},
   "outputs": [],
   "source": [
    "from model import Net"
   ]
  },
  {
   "cell_type": "code",
   "execution_count": 3,
   "id": "b7fc264f-b9e6-4ab9-9238-b3537ec48a56",
   "metadata": {},
   "outputs": [],
   "source": [
    "import torch\n",
    "from torchsummary import summary\n",
    "from optimizer import *\n",
    "from data_loader import *\n",
    "from run import *\n",
    "import torch\n",
    "from model import Net\n",
    "from optimizer import get_optimizer,run_lrfinder\n",
    "from model_fit import training,testing\n",
    "import albumentations as A\n",
    "from albumentations.augmentations.geometric.resize import Resize\n",
    "from albumentations.pytorch.transforms import ToTensorV2\n",
    "from data_loader import MNISTDataLoader\n",
    "import json\n",
    "from torch import nn\n",
    "import plotext as plt\n",
    "import torch\n",
    "from torch.optim import SGD\n",
    "from torch.optim.lr_scheduler import StepLR\n",
    "import torch.nn as nn\n",
    "from torch.optim.lr_scheduler import StepLR,ReduceLROnPlateau\n",
    "import numpy as np\n",
    "from torch_lr_finder import LRFinder\n",
    "import os\n",
    "import sys\n",
    "\n",
    "# sys.path.append(os.path.dirname(os.path.dirname(os.path.abspath(__file__))))\n"
   ]
  },
  {
   "cell_type": "raw",
   "id": "0540c353-4361-40d6-9c20-a5d566a2343a",
   "metadata": {},
   "source": [
    "model_o = Net().to('cuda')"
   ]
  },
  {
   "cell_type": "raw",
   "id": "2fc6f935-7f69-4f71-b9f6-09ab10ac9be8",
   "metadata": {},
   "source": [
    "summary(model_o,(1,28,28))"
   ]
  },
  {
   "cell_type": "code",
   "execution_count": 4,
   "id": "1816c78d-944d-40e5-b679-3358bbf75b1a",
   "metadata": {},
   "outputs": [],
   "source": [
    "config = load_config()"
   ]
  },
  {
   "cell_type": "code",
   "execution_count": 5,
   "id": "371986d6-baf3-41d6-9b02-f32809f5dcc3",
   "metadata": {},
   "outputs": [],
   "source": [
    "config['training']['epochs'] = 15"
   ]
  },
  {
   "cell_type": "code",
   "execution_count": 6,
   "id": "a96c7f42-df07-4b84-bfc4-2517c1469775",
   "metadata": {},
   "outputs": [
    {
     "data": {
      "text/plain": [
       "15"
      ]
     },
     "execution_count": 6,
     "metadata": {},
     "output_type": "execute_result"
    }
   ],
   "source": [
    "config['training']['epochs']"
   ]
  },
  {
   "cell_type": "code",
   "execution_count": 7,
   "id": "1e90a13a-a2c4-411c-8214-c50aa0670866",
   "metadata": {},
   "outputs": [],
   "source": [
    "def get_model(device):\n",
    "    model = Net().to(device)\n",
    "    return model\n",
    "\n",
    "\n",
    "def run_model(model,device,batch_size,epochs,optimizer,scheduler,best_model):\n",
    "    train_losses = []\n",
    "    train_accuracy = []\n",
    "    test_losses =[]\n",
    "    test_accuracy = []\n",
    "    for EPOCHS in range(0,epochs):\n",
    "        train_loss, train_acc = training(model,device,train_loader,optimizer,EPOCHS)\n",
    "        train_losses.append(train_loss)\n",
    "        train_accuracy.append(train_acc)\n",
    "\n",
    "        test_loss,test_acc = testing(model,device,test_loader,EPOCHS)\n",
    "        test_accuracy.append(test_acc)\n",
    "        test_losses.append(test_loss)\n",
    "        \n",
    "        scheduler.step()\n",
    "        try:\n",
    "            if len(test_accuracy) > 1:\n",
    "                if (EPOCHS >= 3 and \n",
    "                    max(test_accuracy[:-1]) < test_accuracy[-1] and \n",
    "                    max(test_accuracy) >= best_model):\n",
    "                    \n",
    "                    checkpoint = {\n",
    "                        'epoch': EPOCHS + 1,\n",
    "                        'valid_loss_min': test_losses[-1],\n",
    "                        'state_dict': model.state_dict(),\n",
    "                        'optimizer': optimizer.state_dict(),\n",
    "                    }\n",
    "                    \n",
    "                    file_name = f\"./model_folder/modelbest_{test_accuracy[-1]:.4f}_epoch_{EPOCHS}.pt\"\n",
    "                    torch.save(checkpoint, file_name)\n",
    "                    print(f\"Target Achieved: {max(test_accuracy) * 100:.2f}% Test Accuracy!!\")\n",
    "                else:\n",
    "                    print(\"Conditions not met for saving the model.\")\n",
    "            else:\n",
    "                print(\"Insufficient test accuracy data.\")\n",
    "        except Exception as e:\n",
    "            print(f\"Model saving failed: {e}\")\n",
    "\n",
    "        print(f\"LR: {scheduler.get_lr()[0]}\\n\")\n",
    "    return model,train_losses, train_accuracy,test_losses,test_accuracy\n",
    "\n",
    "\n",
    "def load_config():\n",
    "    with open('config.json', 'r') as f:\n",
    "        return json.load(f)\n",
    "\n",
    "\n",
    "def get_loss_function(loss_type):\n",
    "    if loss_type is None:\n",
    "        return nn.CrossEntropyLoss()   \n",
    "    loss_types = {\n",
    "        'cross_entropy': nn.CrossEntropyLoss(),\n",
    "        'mse': nn.MSELoss(),\n",
    "        'nll': nn.NLLLoss()\n",
    "    }\n",
    "    return loss_types.get(loss_type.lower(), nn.CrossEntropyLoss())"
   ]
  },
  {
   "cell_type": "code",
   "execution_count": 8,
   "id": "0dcd088c-557f-4f98-a416-d5b9bdebd351",
   "metadata": {},
   "outputs": [
    {
     "name": "stderr",
     "output_type": "stream",
     "text": [
      " 96%|████████████████████████████████████████████████████████████████████████████████████████████████████████████████████████████████████      | 957/1000 [00:15<00:00, 63.40it/s]\n"
     ]
    },
    {
     "name": "stdout",
     "output_type": "stream",
     "text": [
      "Stopping early, the loss has diverged\n",
      "Learning rate search finished. See the graph with {finder_name}.plot()\n",
      "LR suggestion: steepest gradient\n",
      "Suggested LR: 2.74E-02\n"
     ]
    },
    {
     "data": {
      "image/png": "[encoded data removed]",
      "text/plain": [
       "<Figure size 640x480 with 1 Axes>"
      ]
     },
     "metadata": {},
     "output_type": "display_data"
    },
    {
     "name": "stdout",
     "output_type": "stream",
     "text": [
      "Loss: 0.22103686287496876 LR :0.027380251779278577\n"
     ]
    },
    {
     "name": "stderr",
     "output_type": "stream",
     "text": [
      "Train ==> Epochs: 0 Batch:  483 loss: 0.20563443005084991 Accuracy: 87.63% : 100%|\u001b[33m██████████████████████████████████████████████████████████████\u001b[0m| 484/484 [00:07<00:00, 62.61it/s]\u001b[0m\n",
      "Test ==> Epochs: 0 Batch:  80 loss: 0.0008179874941706657 Accuracy: 96.77% : 100%|████████████████████████████████████████████████████████████████| 81/81 [00:01<00:00, 59.35it/s]\n"
     ]
    },
    {
     "name": "stdout",
     "output_type": "stream",
     "text": [
      "Insufficient test accuracy data.\n",
      "LR: 0.027380251779278577\n",
      "\n"
     ]
    },
    {
     "name": "stderr",
     "output_type": "stream",
     "text": [
      "Train ==> Epochs: 1 Batch:  483 loss: 0.10929416120052338 Accuracy: 96.58% : 100%|\u001b[33m██████████████████████████████████████████████████████████████\u001b[0m| 484/484 [00:07<00:00, 61.60it/s]\u001b[0m\n",
      "Test ==> Epochs: 1 Batch:  80 loss: 0.0005644781629554927 Accuracy: 97.88% : 100%|████████████████████████████████████████████████████████████████| 81/81 [00:01<00:00, 58.30it/s]\n"
     ]
    },
    {
     "name": "stdout",
     "output_type": "stream",
     "text": [
      "Conditions not met for saving the model.\n",
      "LR: 0.027380251779278577\n",
      "\n"
     ]
    },
    {
     "name": "stderr",
     "output_type": "stream",
     "text": [
      "Train ==> Epochs: 2 Batch:  483 loss: 0.07642707973718643 Accuracy: 97.16% : 100%|\u001b[33m██████████████████████████████████████████████████████████████\u001b[0m| 484/484 [00:07<00:00, 61.36it/s]\u001b[0m\n",
      "Test ==> Epochs: 2 Batch:  80 loss: 0.0005128854883834719 Accuracy: 97.91% : 100%|████████████████████████████████████████████████████████████████| 81/81 [00:01<00:00, 57.49it/s]\n"
     ]
    },
    {
     "name": "stdout",
     "output_type": "stream",
     "text": [
      "Conditions not met for saving the model.\n",
      "LR: 0.027380251779278577\n",
      "\n"
     ]
    },
    {
     "name": "stderr",
     "output_type": "stream",
     "text": [
      "Train ==> Epochs: 3 Batch:  483 loss: 0.037454623728990555 Accuracy: 97.39% : 100%|\u001b[33m█████████████████████████████████████████████████████████████\u001b[0m| 484/484 [00:07<00:00, 62.87it/s]\u001b[0m\n",
      "Test ==> Epochs: 3 Batch:  80 loss: 0.000509832770191133 Accuracy: 98.01% : 100%|█████████████████████████████████████████████████████████████████| 81/81 [00:01<00:00, 56.67it/s]\n"
     ]
    },
    {
     "name": "stdout",
     "output_type": "stream",
     "text": [
      "Conditions not met for saving the model.\n",
      "LR: 0.027380251779278577\n",
      "\n"
     ]
    },
    {
     "name": "stderr",
     "output_type": "stream",
     "text": [
      "Train ==> Epochs: 4 Batch:  483 loss: 0.1073000356554985 Accuracy: 97.56% : 100%|\u001b[33m███████████████████████████████████████████████████████████████\u001b[0m| 484/484 [00:07<00:00, 62.33it/s]\u001b[0m\n",
      "Test ==> Epochs: 4 Batch:  80 loss: 0.00044302357528358695 Accuracy: 98.25% : 100%|███████████████████████████████████████████████████████████████| 81/81 [00:01<00:00, 57.66it/s]\n"
     ]
    },
    {
     "name": "stdout",
     "output_type": "stream",
     "text": [
      "Conditions not met for saving the model.\n",
      "LR: 0.027380251779278577\n",
      "\n"
     ]
    },
    {
     "name": "stderr",
     "output_type": "stream",
     "text": [
      "Train ==> Epochs: 5 Batch:  483 loss: 0.015759916976094246 Accuracy: 97.78% : 100%|\u001b[33m█████████████████████████████████████████████████████████████\u001b[0m| 484/484 [00:07<00:00, 62.36it/s]\u001b[0m\n",
      "Test ==> Epochs: 5 Batch:  80 loss: 0.0004236392221413553 Accuracy: 98.33% : 100%|████████████████████████████████████████████████████████████████| 81/81 [00:01<00:00, 58.49it/s]\n"
     ]
    },
    {
     "name": "stdout",
     "output_type": "stream",
     "text": [
      "Conditions not met for saving the model.\n",
      "LR: 0.027380251779278577\n",
      "\n"
     ]
    },
    {
     "name": "stderr",
     "output_type": "stream",
     "text": [
      "Train ==> Epochs: 6 Batch:  483 loss: 0.052235331386327744 Accuracy: 97.79% : 100%|\u001b[33m█████████████████████████████████████████████████████████████\u001b[0m| 484/484 [00:07<00:00, 61.38it/s]\u001b[0m\n",
      "Test ==> Epochs: 6 Batch:  80 loss: 0.0004259990774095058 Accuracy: 98.20% : 100%|████████████████████████████████████████████████████████████████| 81/81 [00:01<00:00, 57.61it/s]\n"
     ]
    },
    {
     "name": "stdout",
     "output_type": "stream",
     "text": [
      "Conditions not met for saving the model.\n",
      "LR: 0.027380251779278577\n",
      "\n"
     ]
    },
    {
     "name": "stderr",
     "output_type": "stream",
     "text": [
      "Train ==> Epochs: 7 Batch:  483 loss: 0.0445740781724453 Accuracy: 97.80% : 100%|\u001b[33m███████████████████████████████████████████████████████████████\u001b[0m| 484/484 [00:07<00:00, 62.83it/s]\u001b[0m\n",
      "Test ==> Epochs: 7 Batch:  80 loss: 0.00042445806255564096 Accuracy: 98.29% : 100%|███████████████████████████████████████████████████████████████| 81/81 [00:01<00:00, 60.62it/s]\n"
     ]
    },
    {
     "name": "stdout",
     "output_type": "stream",
     "text": [
      "Conditions not met for saving the model.\n",
      "LR: 0.027380251779278577\n",
      "\n"
     ]
    },
    {
     "name": "stderr",
     "output_type": "stream",
     "text": [
      "Train ==> Epochs: 8 Batch:  483 loss: 0.09609514474868774 Accuracy: 97.91% : 100%|\u001b[33m██████████████████████████████████████████████████████████████\u001b[0m| 484/484 [00:07<00:00, 62.13it/s]\u001b[0m\n",
      "Test ==> Epochs: 8 Batch:  80 loss: 0.00040606864597648383 Accuracy: 98.36% : 100%|███████████████████████████████████████████████████████████████| 81/81 [00:01<00:00, 59.32it/s]\n"
     ]
    },
    {
     "name": "stdout",
     "output_type": "stream",
     "text": [
      "Conditions not met for saving the model.\n",
      "LR: 0.027380251779278577\n",
      "\n"
     ]
    },
    {
     "name": "stderr",
     "output_type": "stream",
     "text": [
      "Train ==> Epochs: 9 Batch:  483 loss: 0.05668123438954353 Accuracy: 97.94% : 100%|\u001b[33m██████████████████████████████████████████████████████████████\u001b[0m| 484/484 [00:07<00:00, 62.50it/s]\u001b[0m\n",
      "Test ==> Epochs: 9 Batch:  80 loss: 0.00036366956655401735 Accuracy: 98.64% : 100%|███████████████████████████████████████████████████████████████| 81/81 [00:01<00:00, 58.46it/s]\n"
     ]
    },
    {
     "name": "stdout",
     "output_type": "stream",
     "text": [
      "Conditions not met for saving the model.\n",
      "LR: 0.027380251779278577\n",
      "\n"
     ]
    },
    {
     "name": "stderr",
     "output_type": "stream",
     "text": [
      "Train ==> Epochs: 10 Batch:  483 loss: 0.0752599760890007 Accuracy: 98.01% : 100%|\u001b[33m██████████████████████████████████████████████████████████████\u001b[0m| 484/484 [00:07<00:00, 61.65it/s]\u001b[0m\n",
      "Test ==> Epochs: 10 Batch:  80 loss: 0.00038592721642926334 Accuracy: 98.49% : 100%|██████████████████████████████████████████████████████████████| 81/81 [00:01<00:00, 57.29it/s]\n"
     ]
    },
    {
     "name": "stdout",
     "output_type": "stream",
     "text": [
      "Conditions not met for saving the model.\n",
      "LR: 0.027380251779278577\n",
      "\n"
     ]
    },
    {
     "name": "stderr",
     "output_type": "stream",
     "text": [
      "Train ==> Epochs: 11 Batch:  483 loss: 0.03232988342642784 Accuracy: 98.12% : 100%|\u001b[33m█████████████████████████████████████████████████████████████\u001b[0m| 484/484 [00:08<00:00, 58.79it/s]\u001b[0m\n",
      "Test ==> Epochs: 11 Batch:  80 loss: 0.00038731231093406675 Accuracy: 98.59% : 100%|██████████████████████████████████████████████████████████████| 81/81 [00:01<00:00, 56.28it/s]\n"
     ]
    },
    {
     "name": "stdout",
     "output_type": "stream",
     "text": [
      "Conditions not met for saving the model.\n",
      "LR: 0.027380251779278577\n",
      "\n"
     ]
    },
    {
     "name": "stderr",
     "output_type": "stream",
     "text": [
      "Train ==> Epochs: 12 Batch:  483 loss: 0.11568798124790192 Accuracy: 98.13% : 100%|\u001b[33m█████████████████████████████████████████████████████████████\u001b[0m| 484/484 [00:07<00:00, 61.70it/s]\u001b[0m\n",
      "Test ==> Epochs: 12 Batch:  80 loss: 0.0003816935612820089 Accuracy: 98.60% : 100%|███████████████████████████████████████████████████████████████| 81/81 [00:01<00:00, 57.01it/s]\n"
     ]
    },
    {
     "name": "stdout",
     "output_type": "stream",
     "text": [
      "Conditions not met for saving the model.\n",
      "LR: 0.027380251779278577\n",
      "\n"
     ]
    },
    {
     "name": "stderr",
     "output_type": "stream",
     "text": [
      "Train ==> Epochs: 13 Batch:  483 loss: 0.08745071291923523 Accuracy: 98.07% : 100%|\u001b[33m█████████████████████████████████████████████████████████████\u001b[0m| 484/484 [00:07<00:00, 60.90it/s]\u001b[0m\n",
      "Test ==> Epochs: 13 Batch:  80 loss: 0.00042680786657147107 Accuracy: 98.40% : 100%|██████████████████████████████████████████████████████████████| 81/81 [00:01<00:00, 59.17it/s]\n"
     ]
    },
    {
     "name": "stdout",
     "output_type": "stream",
     "text": [
      "Conditions not met for saving the model.\n",
      "LR: 0.027380251779278577\n",
      "\n"
     ]
    },
    {
     "name": "stderr",
     "output_type": "stream",
     "text": [
      "Train ==> Epochs: 14 Batch:  483 loss: 0.048578690737485886 Accuracy: 98.15% : 100%|\u001b[33m████████████████████████████████████████████████████████████\u001b[0m| 484/484 [00:07<00:00, 61.48it/s]\u001b[0m\n",
      "Test ==> Epochs: 14 Batch:  80 loss: 0.00033380933504085987 Accuracy: 98.68% : 100%|██████████████████████████████████████████████████████████████| 81/81 [00:01<00:00, 59.72it/s]"
     ]
    },
    {
     "name": "stdout",
     "output_type": "stream",
     "text": [
      "Conditions not met for saving the model.\n",
      "LR: 0.027380251779278577\n",
      "\n",
      "Max Train Accuracy:  0.9815\n",
      "Max Test Accuracy:  0.9868\n"
     ]
    },
    {
     "name": "stderr",
     "output_type": "stream",
     "text": [
      "\n"
     ]
    }
   ],
   "source": [
    "\n",
    "# Set device\n",
    "device = \"cuda\" if torch.cuda.is_available() else \"cpu\"\n",
    "\n",
    "# Get loss function and scheduler settings from config\n",
    "loss_fn = get_loss_function(config['training'].get('loss_type'))\n",
    "use_scheduler = config['training'].get('use_scheduler', False)\n",
    "scheduler_type = config['training'].get('scheduler_type', 'steplr')\n",
    "use_scheduler = bool(use_scheduler)\n",
    "best_model = config['best_model']\n",
    "\n",
    "# Set seed from config\n",
    "_ = torch.manual_seed(config['seed'])\n",
    "if torch.cuda.is_available():\n",
    "    _ = torch.cuda.manual_seed(config['seed'])\n",
    "\n",
    "# Get batch size based on device\n",
    "batch_size = config['training']['batch_size']\n",
    "epochs = config['training']['epochs']\n",
    "\n",
    "model = get_model(device)\n",
    "data_loader = MNISTDataLoader(batch_size=batch_size)\n",
    "train_loader, test_loader = data_loader.get_data_loaders()\n",
    "\n",
    "\n",
    "lrs,_ = run_lrfinder(\n",
    "    model, \n",
    "    device, \n",
    "    train_loader, \n",
    "    test_loader, \n",
    "    start_lr=config['training']['start_lr'],\n",
    "    end_lr=config['training']['end_lr']\n",
    ")\n",
    "optimizer,scheduler = get_optimizer(model,scheduler = use_scheduler,\\\n",
    "                          scheduler_type = scheduler_type,lr = lrs[0])\n",
    "\n",
    "model,train_losses, train_accuracy,test_losses,test_accuracy= run_model(model,device,batch_size,epochs,optimizer,scheduler,best_model)\n",
    "\n",
    "\n",
    "print(\"Max Train Accuracy: \",max(train_accuracy))\n",
    "print(\"Max Test Accuracy: \",max(test_accuracy))"
   ]
  },
  {
   "cell_type": "code",
   "execution_count": 10,
   "id": "50fc61af-2176-4858-8267-a52b6a9e0b92",
   "metadata": {},
   "outputs": [
    {
     "data": {
      "text/plain": [
       "[<matplotlib.lines.Line2D at 0x7374935d5700>]"
      ]
     },
     "execution_count": 10,
     "metadata": {},
     "output_type": "execute_result"
    },
    {
     "data": {
      "text/plain": [
       "[<matplotlib.lines.Line2D at 0x7374671a8830>]"
      ]
     },
     "execution_count": 10,
     "metadata": {},
     "output_type": "execute_result"
    },
    {
     "data": {
      "text/plain": [
       "Text(0.5, 1.0, 'Model Accuracy')"
      ]
     },
     "execution_count": 10,
     "metadata": {},
     "output_type": "execute_result"
    },
    {
     "data": {
      "text/plain": [
       "Text(0.5, 0, 'Epochs')"
      ]
     },
     "execution_count": 10,
     "metadata": {},
     "output_type": "execute_result"
    },
    {
     "data": {
      "text/plain": [
       "Text(0, 0.5, 'Accuracy')"
      ]
     },
     "execution_count": 10,
     "metadata": {},
     "output_type": "execute_result"
    },
    {
     "data": {
      "text/plain": [
       "<matplotlib.legend.Legend at 0x7374699147a0>"
      ]
     },
     "execution_count": 10,
     "metadata": {},
     "output_type": "execute_result"
    },
    {
     "data": {
      "text/plain": [
       "[<matplotlib.lines.Line2D at 0x7374671a9b50>]"
      ]
     },
     "execution_count": 10,
     "metadata": {},
     "output_type": "execute_result"
    },
    {
     "data": {
      "text/plain": [
       "[<matplotlib.lines.Line2D at 0x7374671aa870>]"
      ]
     },
     "execution_count": 10,
     "metadata": {},
     "output_type": "execute_result"
    },
    {
     "data": {
      "text/plain": [
       "Text(0.5, 1.0, 'Model Loss')"
      ]
     },
     "execution_count": 10,
     "metadata": {},
     "output_type": "execute_result"
    },
    {
     "data": {
      "text/plain": [
       "Text(0.5, 0, 'Epochs')"
      ]
     },
     "execution_count": 10,
     "metadata": {},
     "output_type": "execute_result"
    },
    {
     "data": {
      "text/plain": [
       "Text(0, 0.5, 'Loss')"
      ]
     },
     "execution_count": 10,
     "metadata": {},
     "output_type": "execute_result"
    },
    {
     "data": {
      "text/plain": [
       "<matplotlib.legend.Legend at 0x7374671aaab0>"
      ]
     },
     "execution_count": 10,
     "metadata": {},
     "output_type": "execute_result"
    },
    {
     "data": {
      "image/png": "[encoded data removed]",
      "text/plain": [
       "<Figure size 1200x500 with 2 Axes>"
      ]
     },
     "metadata": {},
     "output_type": "display_data"
    }
   ],
   "source": [
    "import matplotlib.pyplot as plt\n",
    "# Create a figure with 1 row and 2 columns of subplots\n",
    "fig, axes = plt.subplots(1, 2, figsize=(12, 5))  # Adjust figsize as needed\n",
    "\n",
    "# Plot accuracy on the first subplot\n",
    "axes[0].plot(train_accuracy, label=\"Train Accuracy\")\n",
    "axes[0].plot(test_accuracy, label=\"Test Accuracy\")\n",
    "axes[0].set_title(\"Model Accuracy\")\n",
    "axes[0].set_xlabel(\"Epochs\")\n",
    "axes[0].set_ylabel(\"Accuracy\")\n",
    "axes[0].legend()\n",
    "\n",
    "# Plot loss on the second subplot\n",
    "axes[1].plot(train_losses, label=\"Train Loss\")\n",
    "axes[1].plot(test_losses, label=\"Test Loss\")\n",
    "axes[1].set_title(\"Model Loss\")\n",
    "axes[1].set_xlabel(\"Epochs\")\n",
    "axes[1].set_ylabel(\"Loss\")\n",
    "axes[1].legend()\n",
    "\n",
    "# Adjust layout and display the plots\n",
    "plt.tight_layout()\n",
    "plt.show()"
   ]
  },
  {
   "cell_type": "code",
   "execution_count": 11,
   "id": "d4e9254f-95c2-4ddf-b783-e04d03d4a174",
   "metadata": {},
   "outputs": [
    {
     "name": "stdout",
     "output_type": "stream",
     "text": [
      "\u001b[1m============================= test session starts ==============================\u001b[0m\n",
      "platform linux -- Python 3.12.7, pytest-8.3.3, pluggy-1.5.0 -- /home/jd/miniconda3/envs/era_n/bin/python\n",
      "cachedir: .pytest_cache\n",
      "rootdir: /home/jd/Desktop/Mnist_ops\n",
      "plugins: anyio-4.6.2.post1\n",
      "collected 11 items                                                             \u001b[0m\u001b[1m\n",
      "\n",
      "tests/test_model.py::test_model_param_count \u001b[32mPASSED\u001b[0m\u001b[32m                       [  9%]\u001b[0m\n",
      "tests/test_model.py::test_model_output_shape \u001b[32mPASSED\u001b[0m\u001b[32m                      [ 18%]\u001b[0m\n",
      "tests/test_model.py::test_cuda_available \u001b[32mPASSED\u001b[0m\u001b[32m                          [ 27%]\u001b[0m\n",
      "tests/test_model.py::test_batch_size \u001b[32mPASSED\u001b[0m\u001b[32m                              [ 36%]\u001b[0m\n",
      "tests/test_model.py::test_calculate_stats \u001b[32mPASSED\u001b[0m\u001b[32m                         [ 45%]\u001b[0m\n",
      "tests/test_model.py::test_transformations \u001b[32mPASSED\u001b[0m\u001b[32m                         [ 54%]\u001b[0m\n",
      "tests/test_model.py::test_dataloader_args \u001b[32mPASSED\u001b[0m\u001b[32m                         [ 63%]\u001b[0m\n",
      "tests/test_model.py::test_data_loaders \u001b[32mPASSED\u001b[0m\u001b[32m                            [ 72%]\u001b[0m\n",
      "tests/test_model.py::test_data_augmentation \u001b[32mPASSED\u001b[0m\u001b[32m                       [ 81%]\u001b[0m\n",
      "tests/test_model.py::test_training \u001b[32mPASSED\u001b[0m\u001b[32m                                [ 90%]\u001b[0m\n",
      "tests/test_model.py::test_training_with_scheduler \u001b[32mPASSED\u001b[0m\u001b[32m                 [100%]\u001b[0m\n",
      "\n",
      "\u001b[32m============================= \u001b[32m\u001b[1m11 passed\u001b[0m\u001b[32m in 36.37s\u001b[0m\u001b[32m ==============================\u001b[0m\n"
     ]
    }
   ],
   "source": [
    "!pytest -v"
   ]
  },
  {
   "cell_type": "code",
   "execution_count": 12,
   "id": "5cbcc746-62a7-4c63-90e6-e79a662980b8",
   "metadata": {},
   "outputs": [
    {
     "name": "stdout",
     "output_type": "stream",
     "text": [
      ".github/:\n",
      "workflows\n",
      "\n",
      ".github/workflows:\n",
      "python-app.yml\n"
     ]
    }
   ],
   "source": [
    "!ls -R .github/"
   ]
  },
  {
   "cell_type": "code",
   "execution_count": null,
   "id": "84e2cf44-f7cc-4e0b-a342-f6a8b48a8970",
   "metadata": {},
   "outputs": [],
   "source": []
  }
 ],
 "metadata": {
  "kernelspec": {
   "display_name": "Python 3 (ipykernel)",
   "language": "python",
   "name": "python3"
  },
  "language_info": {
   "codemirror_mode": {
    "name": "ipython",
    "version": 3
   },
   "file_extension": ".py",
   "mimetype": "text/x-python",
   "name": "python",
   "nbconvert_exporter": "python",
   "pygments_lexer": "ipython3",
   "version": "3.12.7"
  }
 },
 "nbformat": 4,
 "nbformat_minor": 5
}
